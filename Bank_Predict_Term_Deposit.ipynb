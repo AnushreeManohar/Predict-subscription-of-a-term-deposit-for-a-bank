{
 "cells": [
  {
   "cell_type": "markdown",
   "id": "3a937e8d",
   "metadata": {},
   "source": [
    "## CS504 Fall 2021 Project 4\n",
    "\n",
    "### Group 34 \n",
    "Prashanth Paul Dasari | Lavanya Kumaran | Anushree Manoharrao\n"
   ]
  },
  {
   "cell_type": "markdown",
   "id": "7a645778",
   "metadata": {},
   "source": [
    "### Loading packages"
   ]
  },
  {
   "cell_type": "code",
   "execution_count": 6,
   "id": "c37d3895",
   "metadata": {},
   "outputs": [],
   "source": [
    "import pandas as pd\n",
    "from sklearn import tree\n",
    "import numpy as np\n",
    "import matplotlib.pyplot as plt\n",
    "from plotnine import *\n",
    "import os\n",
    "import io\n",
    "from IPython.display import Image  \n",
    "from six import StringIO  \n",
    "import pydotplus\n",
    "from sklearn.feature_extraction.text import CountVectorizer\n",
    "from sklearn.naive_bayes import MultinomialNB\n",
    "from sklearn.naive_bayes import GaussianNB\n",
    "from sklearn import tree\n",
    "from sklearn.model_selection import train_test_split\n",
    "from sklearn import svm\n",
    "from sklearn import metrics\n",
    "from sklearn.model_selection import KFold,cross_val_score, cross_val_predict, StratifiedKFold\n",
    "from sklearn.ensemble import RandomForestClassifier\n",
    "from sklearn.neighbors import KNeighborsClassifier\n",
    "from sklearn.metrics import classification_report,confusion_matrix\n",
    "from sklearn.feature_selection import SelectKBest\n",
    "import seaborn as sns\n",
    "from plotnine import ggplot, aes, geom_bar, geom_col, geom_point\n",
    "import plotnine as p9"
   ]
  },
  {
   "cell_type": "markdown",
   "id": "bbc0ef0f",
   "metadata": {},
   "source": [
    "### Loading the dataset"
   ]
  },
  {
   "cell_type": "code",
   "execution_count": 7,
   "id": "f863854e",
   "metadata": {},
   "outputs": [],
   "source": [
    "df_banks = pd.read_csv(\"data/bank.csv\", delimiter=\";\")"
   ]
  },
  {
   "cell_type": "code",
   "execution_count": 8,
   "id": "460cefda",
   "metadata": {},
   "outputs": [
    {
     "data": {
      "text/html": [
       "<div>\n",
       "<style scoped>\n",
       "    .dataframe tbody tr th:only-of-type {\n",
       "        vertical-align: middle;\n",
       "    }\n",
       "\n",
       "    .dataframe tbody tr th {\n",
       "        vertical-align: top;\n",
       "    }\n",
       "\n",
       "    .dataframe thead th {\n",
       "        text-align: right;\n",
       "    }\n",
       "</style>\n",
       "<table border=\"1\" class=\"dataframe\">\n",
       "  <thead>\n",
       "    <tr style=\"text-align: right;\">\n",
       "      <th></th>\n",
       "      <th>age</th>\n",
       "      <th>job</th>\n",
       "      <th>marital</th>\n",
       "      <th>education</th>\n",
       "      <th>default</th>\n",
       "      <th>balance</th>\n",
       "      <th>housing</th>\n",
       "      <th>loan</th>\n",
       "      <th>contact</th>\n",
       "      <th>day</th>\n",
       "      <th>month</th>\n",
       "      <th>duration</th>\n",
       "      <th>campaign</th>\n",
       "      <th>pdays</th>\n",
       "      <th>previous</th>\n",
       "      <th>poutcome</th>\n",
       "      <th>y</th>\n",
       "    </tr>\n",
       "  </thead>\n",
       "  <tbody>\n",
       "    <tr>\n",
       "      <th>0</th>\n",
       "      <td>30</td>\n",
       "      <td>unemployed</td>\n",
       "      <td>married</td>\n",
       "      <td>primary</td>\n",
       "      <td>no</td>\n",
       "      <td>1787</td>\n",
       "      <td>no</td>\n",
       "      <td>no</td>\n",
       "      <td>cellular</td>\n",
       "      <td>19</td>\n",
       "      <td>oct</td>\n",
       "      <td>79</td>\n",
       "      <td>1</td>\n",
       "      <td>-1</td>\n",
       "      <td>0</td>\n",
       "      <td>unknown</td>\n",
       "      <td>no</td>\n",
       "    </tr>\n",
       "    <tr>\n",
       "      <th>1</th>\n",
       "      <td>33</td>\n",
       "      <td>services</td>\n",
       "      <td>married</td>\n",
       "      <td>secondary</td>\n",
       "      <td>no</td>\n",
       "      <td>4789</td>\n",
       "      <td>yes</td>\n",
       "      <td>yes</td>\n",
       "      <td>cellular</td>\n",
       "      <td>11</td>\n",
       "      <td>may</td>\n",
       "      <td>220</td>\n",
       "      <td>1</td>\n",
       "      <td>339</td>\n",
       "      <td>4</td>\n",
       "      <td>failure</td>\n",
       "      <td>no</td>\n",
       "    </tr>\n",
       "    <tr>\n",
       "      <th>2</th>\n",
       "      <td>35</td>\n",
       "      <td>management</td>\n",
       "      <td>single</td>\n",
       "      <td>tertiary</td>\n",
       "      <td>no</td>\n",
       "      <td>1350</td>\n",
       "      <td>yes</td>\n",
       "      <td>no</td>\n",
       "      <td>cellular</td>\n",
       "      <td>16</td>\n",
       "      <td>apr</td>\n",
       "      <td>185</td>\n",
       "      <td>1</td>\n",
       "      <td>330</td>\n",
       "      <td>1</td>\n",
       "      <td>failure</td>\n",
       "      <td>no</td>\n",
       "    </tr>\n",
       "    <tr>\n",
       "      <th>3</th>\n",
       "      <td>30</td>\n",
       "      <td>management</td>\n",
       "      <td>married</td>\n",
       "      <td>tertiary</td>\n",
       "      <td>no</td>\n",
       "      <td>1476</td>\n",
       "      <td>yes</td>\n",
       "      <td>yes</td>\n",
       "      <td>unknown</td>\n",
       "      <td>3</td>\n",
       "      <td>jun</td>\n",
       "      <td>199</td>\n",
       "      <td>4</td>\n",
       "      <td>-1</td>\n",
       "      <td>0</td>\n",
       "      <td>unknown</td>\n",
       "      <td>no</td>\n",
       "    </tr>\n",
       "    <tr>\n",
       "      <th>4</th>\n",
       "      <td>59</td>\n",
       "      <td>blue-collar</td>\n",
       "      <td>married</td>\n",
       "      <td>secondary</td>\n",
       "      <td>no</td>\n",
       "      <td>0</td>\n",
       "      <td>yes</td>\n",
       "      <td>no</td>\n",
       "      <td>unknown</td>\n",
       "      <td>5</td>\n",
       "      <td>may</td>\n",
       "      <td>226</td>\n",
       "      <td>1</td>\n",
       "      <td>-1</td>\n",
       "      <td>0</td>\n",
       "      <td>unknown</td>\n",
       "      <td>no</td>\n",
       "    </tr>\n",
       "    <tr>\n",
       "      <th>...</th>\n",
       "      <td>...</td>\n",
       "      <td>...</td>\n",
       "      <td>...</td>\n",
       "      <td>...</td>\n",
       "      <td>...</td>\n",
       "      <td>...</td>\n",
       "      <td>...</td>\n",
       "      <td>...</td>\n",
       "      <td>...</td>\n",
       "      <td>...</td>\n",
       "      <td>...</td>\n",
       "      <td>...</td>\n",
       "      <td>...</td>\n",
       "      <td>...</td>\n",
       "      <td>...</td>\n",
       "      <td>...</td>\n",
       "      <td>...</td>\n",
       "    </tr>\n",
       "    <tr>\n",
       "      <th>4516</th>\n",
       "      <td>33</td>\n",
       "      <td>services</td>\n",
       "      <td>married</td>\n",
       "      <td>secondary</td>\n",
       "      <td>no</td>\n",
       "      <td>-333</td>\n",
       "      <td>yes</td>\n",
       "      <td>no</td>\n",
       "      <td>cellular</td>\n",
       "      <td>30</td>\n",
       "      <td>jul</td>\n",
       "      <td>329</td>\n",
       "      <td>5</td>\n",
       "      <td>-1</td>\n",
       "      <td>0</td>\n",
       "      <td>unknown</td>\n",
       "      <td>no</td>\n",
       "    </tr>\n",
       "    <tr>\n",
       "      <th>4517</th>\n",
       "      <td>57</td>\n",
       "      <td>self-employed</td>\n",
       "      <td>married</td>\n",
       "      <td>tertiary</td>\n",
       "      <td>yes</td>\n",
       "      <td>-3313</td>\n",
       "      <td>yes</td>\n",
       "      <td>yes</td>\n",
       "      <td>unknown</td>\n",
       "      <td>9</td>\n",
       "      <td>may</td>\n",
       "      <td>153</td>\n",
       "      <td>1</td>\n",
       "      <td>-1</td>\n",
       "      <td>0</td>\n",
       "      <td>unknown</td>\n",
       "      <td>no</td>\n",
       "    </tr>\n",
       "    <tr>\n",
       "      <th>4518</th>\n",
       "      <td>57</td>\n",
       "      <td>technician</td>\n",
       "      <td>married</td>\n",
       "      <td>secondary</td>\n",
       "      <td>no</td>\n",
       "      <td>295</td>\n",
       "      <td>no</td>\n",
       "      <td>no</td>\n",
       "      <td>cellular</td>\n",
       "      <td>19</td>\n",
       "      <td>aug</td>\n",
       "      <td>151</td>\n",
       "      <td>11</td>\n",
       "      <td>-1</td>\n",
       "      <td>0</td>\n",
       "      <td>unknown</td>\n",
       "      <td>no</td>\n",
       "    </tr>\n",
       "    <tr>\n",
       "      <th>4519</th>\n",
       "      <td>28</td>\n",
       "      <td>blue-collar</td>\n",
       "      <td>married</td>\n",
       "      <td>secondary</td>\n",
       "      <td>no</td>\n",
       "      <td>1137</td>\n",
       "      <td>no</td>\n",
       "      <td>no</td>\n",
       "      <td>cellular</td>\n",
       "      <td>6</td>\n",
       "      <td>feb</td>\n",
       "      <td>129</td>\n",
       "      <td>4</td>\n",
       "      <td>211</td>\n",
       "      <td>3</td>\n",
       "      <td>other</td>\n",
       "      <td>no</td>\n",
       "    </tr>\n",
       "    <tr>\n",
       "      <th>4520</th>\n",
       "      <td>44</td>\n",
       "      <td>entrepreneur</td>\n",
       "      <td>single</td>\n",
       "      <td>tertiary</td>\n",
       "      <td>no</td>\n",
       "      <td>1136</td>\n",
       "      <td>yes</td>\n",
       "      <td>yes</td>\n",
       "      <td>cellular</td>\n",
       "      <td>3</td>\n",
       "      <td>apr</td>\n",
       "      <td>345</td>\n",
       "      <td>2</td>\n",
       "      <td>249</td>\n",
       "      <td>7</td>\n",
       "      <td>other</td>\n",
       "      <td>no</td>\n",
       "    </tr>\n",
       "  </tbody>\n",
       "</table>\n",
       "<p>4521 rows × 17 columns</p>\n",
       "</div>"
      ],
      "text/plain": [
       "      age            job  marital  education default  balance housing loan  \\\n",
       "0      30     unemployed  married    primary      no     1787      no   no   \n",
       "1      33       services  married  secondary      no     4789     yes  yes   \n",
       "2      35     management   single   tertiary      no     1350     yes   no   \n",
       "3      30     management  married   tertiary      no     1476     yes  yes   \n",
       "4      59    blue-collar  married  secondary      no        0     yes   no   \n",
       "...   ...            ...      ...        ...     ...      ...     ...  ...   \n",
       "4516   33       services  married  secondary      no     -333     yes   no   \n",
       "4517   57  self-employed  married   tertiary     yes    -3313     yes  yes   \n",
       "4518   57     technician  married  secondary      no      295      no   no   \n",
       "4519   28    blue-collar  married  secondary      no     1137      no   no   \n",
       "4520   44   entrepreneur   single   tertiary      no     1136     yes  yes   \n",
       "\n",
       "       contact  day month  duration  campaign  pdays  previous poutcome   y  \n",
       "0     cellular   19   oct        79         1     -1         0  unknown  no  \n",
       "1     cellular   11   may       220         1    339         4  failure  no  \n",
       "2     cellular   16   apr       185         1    330         1  failure  no  \n",
       "3      unknown    3   jun       199         4     -1         0  unknown  no  \n",
       "4      unknown    5   may       226         1     -1         0  unknown  no  \n",
       "...        ...  ...   ...       ...       ...    ...       ...      ...  ..  \n",
       "4516  cellular   30   jul       329         5     -1         0  unknown  no  \n",
       "4517   unknown    9   may       153         1     -1         0  unknown  no  \n",
       "4518  cellular   19   aug       151        11     -1         0  unknown  no  \n",
       "4519  cellular    6   feb       129         4    211         3    other  no  \n",
       "4520  cellular    3   apr       345         2    249         7    other  no  \n",
       "\n",
       "[4521 rows x 17 columns]"
      ]
     },
     "execution_count": 8,
     "metadata": {},
     "output_type": "execute_result"
    }
   ],
   "source": [
    "df_banks"
   ]
  },
  {
   "cell_type": "code",
   "execution_count": 9,
   "id": "70aaa722",
   "metadata": {},
   "outputs": [],
   "source": [
    "#df_banks[\"pdays_not_contacted\"] = df_banks.pdays == -1\n",
    "#df_banks.pdays = df_banks.pdays.replace({-1:900})\n",
    "#df_banks = df_banks.drop(columns=[\"day\"])"
   ]
  },
  {
   "cell_type": "markdown",
   "id": "050cb422",
   "metadata": {},
   "source": [
    "### Preprocessing"
   ]
  },
  {
   "cell_type": "code",
   "execution_count": 10,
   "id": "ffc55b67",
   "metadata": {},
   "outputs": [
    {
     "data": {
      "text/plain": [
       "age          0\n",
       "job          0\n",
       "marital      0\n",
       "education    0\n",
       "default      0\n",
       "balance      0\n",
       "housing      0\n",
       "loan         0\n",
       "contact      0\n",
       "day          0\n",
       "month        0\n",
       "duration     0\n",
       "campaign     0\n",
       "pdays        0\n",
       "previous     0\n",
       "poutcome     0\n",
       "y            0\n",
       "dtype: int64"
      ]
     },
     "execution_count": 10,
     "metadata": {},
     "output_type": "execute_result"
    }
   ],
   "source": [
    "df_banks.isna().sum()"
   ]
  },
  {
   "cell_type": "code",
   "execution_count": 11,
   "id": "2372f487",
   "metadata": {},
   "outputs": [
    {
     "data": {
      "text/plain": [
       "array(['unemployed', 'services', 'management', 'blue-collar',\n",
       "       'self-employed', 'technician', 'entrepreneur', 'admin.', 'student',\n",
       "       'housemaid', 'retired', 'unknown'], dtype=object)"
      ]
     },
     "execution_count": 11,
     "metadata": {},
     "output_type": "execute_result"
    }
   ],
   "source": [
    "df_banks.job.unique()"
   ]
  },
  {
   "cell_type": "code",
   "execution_count": 12,
   "id": "c27a6883",
   "metadata": {},
   "outputs": [
    {
     "data": {
      "text/plain": [
       "array(['oct', 'may', 'apr', 'jun', 'feb', 'aug', 'jan', 'jul', 'nov',\n",
       "       'sep', 'mar', 'dec'], dtype=object)"
      ]
     },
     "execution_count": 12,
     "metadata": {},
     "output_type": "execute_result"
    }
   ],
   "source": [
    "df_banks.month.unique()"
   ]
  },
  {
   "cell_type": "markdown",
   "id": "e94d0e69",
   "metadata": {},
   "source": [
    "#### Exploratory data analysis"
   ]
  },
  {
   "cell_type": "code",
   "execution_count": 13,
   "id": "2cfd9f13",
   "metadata": {},
   "outputs": [
    {
     "data": {
      "text/plain": [
       "no     4000\n",
       "yes     521\n",
       "Name: y, dtype: int64"
      ]
     },
     "execution_count": 13,
     "metadata": {},
     "output_type": "execute_result"
    }
   ],
   "source": [
    "df_banks.y.value_counts()"
   ]
  },
  {
   "cell_type": "code",
   "execution_count": 14,
   "id": "88f9445c",
   "metadata": {},
   "outputs": [
    {
     "data": {
      "text/plain": [
       "Text(0.5, 1.0, 'Distribution of output variable')"
      ]
     },
     "execution_count": 14,
     "metadata": {},
     "output_type": "execute_result"
    },
    {
     "data": {
      "image/png": "[encoded data removed]",
      "text/plain": [
       "<Figure size 432x288 with 1 Axes>"
      ]
     },
     "metadata": {
      "needs_background": "light"
     },
     "output_type": "display_data"
    }
   ],
   "source": [
    "df_banks.y.value_counts().plot.barh()\n",
    "plt.xlabel('Count of output variable', fontsize=10)\n",
    "plt.title('Distribution of output variable', fontsize=14, weight='bold', color='tab:blue')"
   ]
  },
  {
   "cell_type": "code",
   "execution_count": 15,
   "id": "bc26c9d0",
   "metadata": {},
   "outputs": [
    {
     "data": {
      "text/plain": [
       "array(['married', 'single', 'divorced'], dtype=object)"
      ]
     },
     "execution_count": 15,
     "metadata": {},
     "output_type": "execute_result"
    }
   ],
   "source": [
    "df_banks.marital.unique()"
   ]
  },
  {
   "cell_type": "code",
   "execution_count": 16,
   "id": "c889611d",
   "metadata": {},
   "outputs": [
    {
     "data": {
      "text/plain": [
       "Text(0.5, 1.0, 'Distribution of marital status')"
      ]
     },
     "execution_count": 16,
     "metadata": {},
     "output_type": "execute_result"
    },
    {
     "data": {
      "image/png": "[encoded data removed]",
      "text/plain": [
       "<Figure size 432x288 with 1 Axes>"
      ]
     },
     "metadata": {
      "needs_background": "light"
     },
     "output_type": "display_data"
    }
   ],
   "source": [
    "df_banks.marital.value_counts().plot.barh()\n",
    "plt.xlabel('Count of marital status', fontsize=10)\n",
    "plt.title('Distribution of marital status', fontsize=14, weight='bold', color='tab:blue')"
   ]
  },
  {
   "cell_type": "code",
   "execution_count": 17,
   "id": "7468a3d1",
   "metadata": {},
   "outputs": [
    {
     "data": {
      "text/plain": [
       "no     3830\n",
       "yes     691\n",
       "Name: loan, dtype: int64"
      ]
     },
     "execution_count": 17,
     "metadata": {},
     "output_type": "execute_result"
    }
   ],
   "source": [
    "df_banks['loan'].value_counts().sort_index()"
   ]
  },
  {
   "cell_type": "code",
   "execution_count": 18,
   "id": "8d0962b0",
   "metadata": {},
   "outputs": [
    {
     "data": {
      "text/plain": [
       "no     1962\n",
       "yes    2559\n",
       "Name: housing, dtype: int64"
      ]
     },
     "execution_count": 18,
     "metadata": {},
     "output_type": "execute_result"
    }
   ],
   "source": [
    "df_banks['housing'].value_counts().sort_index()"
   ]
  },
  {
   "cell_type": "code",
   "execution_count": 19,
   "id": "1a43dc82",
   "metadata": {},
   "outputs": [],
   "source": [
    "df_plot_loans = (df_banks[[\"housing\", \"loan\"]]\n",
    "                 .rename(columns={\"loan\":\"personal\"})\n",
    "                 .melt(var_name=\"loan_type\", value_name=\"is_loan\"))"
   ]
  },
  {
   "cell_type": "code",
   "execution_count": 20,
   "id": "34acc5fd",
   "metadata": {},
   "outputs": [
    {
     "data": {
      "image/png": "[encoded data removed]",
      "text/plain": [
       "<Figure size 640x480 with 1 Axes>"
      ]
     },
     "metadata": {},
     "output_type": "display_data"
    },
    {
     "data": {
      "text/plain": [
       "<ggplot: (156142793421)>"
      ]
     },
     "execution_count": 20,
     "metadata": {},
     "output_type": "execute_result"
    }
   ],
   "source": [
    "(ggplot(aes(\"is_loan\", fill=\"loan_type\"), data=df_plot_loans) +\n",
    " geom_bar(position=\"dodge\") +\n",
    " labs(title=\"Count of people opted for loan\"))"
   ]
  },
  {
   "cell_type": "code",
   "execution_count": 21,
   "id": "ee551250",
   "metadata": {},
   "outputs": [
    {
     "data": {
      "text/plain": [
       "[Text(0.5, 1.0, 'Distribution of age')]"
      ]
     },
     "execution_count": 21,
     "metadata": {},
     "output_type": "execute_result"
    },
    {
     "data": {
      "image/png": "[encoded data removed]",
      "text/plain": [
       "<Figure size 432x288 with 1 Axes>"
      ]
     },
     "metadata": {
      "needs_background": "light"
     },
     "output_type": "display_data"
    }
   ],
   "source": [
    "sns.boxplot(x=df_banks['age']).set(title='Distribution of age')"
   ]
  },
  {
   "cell_type": "code",
   "execution_count": 22,
   "id": "2da8792f",
   "metadata": {
    "scrolled": false
   },
   "outputs": [
    {
     "data": {
      "text/plain": [
       "[Text(0.5, 1.0, 'Outcome of the previous marketing campaignt Vs no of present campaigns')]"
      ]
     },
     "execution_count": 22,
     "metadata": {},
     "output_type": "execute_result"
    },
    {
     "data": {
      "image/png": "[encoded data removed]",
      "text/plain": [
       "<Figure size 432x288 with 1 Axes>"
      ]
     },
     "metadata": {
      "needs_background": "light"
     },
     "output_type": "display_data"
    }
   ],
   "source": [
    "sns.boxplot(data=df_banks, x='campaign', y='poutcome').set(title='Outcome of the previous marketing campaignt Vs no of present campaigns')"
   ]
  },
  {
   "cell_type": "code",
   "execution_count": 23,
   "id": "9c6819e8",
   "metadata": {
    "scrolled": false
   },
   "outputs": [
    {
     "data": {
      "text/plain": [
       "[Text(0.5, 1.0, 'Output variable \"y\" Vs no of present campaigns')]"
      ]
     },
     "execution_count": 23,
     "metadata": {},
     "output_type": "execute_result"
    },
    {
     "data": {
      "image/png": "[encoded data removed]",
      "text/plain": [
       "<Figure size 432x288 with 1 Axes>"
      ]
     },
     "metadata": {
      "needs_background": "light"
     },
     "output_type": "display_data"
    }
   ],
   "source": [
    "sns.boxplot(data=df_banks, x='campaign', y='y').set(title='Output variable \"y\" Vs no of present campaigns')"
   ]
  },
  {
   "cell_type": "code",
   "execution_count": 24,
   "id": "445c674b",
   "metadata": {},
   "outputs": [
    {
     "data": {
      "text/html": [
       "<div>\n",
       "<style scoped>\n",
       "    .dataframe tbody tr th:only-of-type {\n",
       "        vertical-align: middle;\n",
       "    }\n",
       "\n",
       "    .dataframe tbody tr th {\n",
       "        vertical-align: top;\n",
       "    }\n",
       "\n",
       "    .dataframe thead th {\n",
       "        text-align: right;\n",
       "    }\n",
       "</style>\n",
       "<table border=\"1\" class=\"dataframe\">\n",
       "  <thead>\n",
       "    <tr style=\"text-align: right;\">\n",
       "      <th></th>\n",
       "      <th>age</th>\n",
       "      <th>job</th>\n",
       "      <th>marital</th>\n",
       "      <th>education</th>\n",
       "      <th>default</th>\n",
       "      <th>balance</th>\n",
       "      <th>housing</th>\n",
       "      <th>loan</th>\n",
       "      <th>contact</th>\n",
       "      <th>day</th>\n",
       "      <th>month</th>\n",
       "      <th>duration</th>\n",
       "      <th>campaign</th>\n",
       "      <th>pdays</th>\n",
       "      <th>previous</th>\n",
       "      <th>poutcome</th>\n",
       "      <th>y</th>\n",
       "    </tr>\n",
       "  </thead>\n",
       "  <tbody>\n",
       "    <tr>\n",
       "      <th>0</th>\n",
       "      <td>30</td>\n",
       "      <td>0</td>\n",
       "      <td>1</td>\n",
       "      <td>0</td>\n",
       "      <td>0</td>\n",
       "      <td>1787</td>\n",
       "      <td>0</td>\n",
       "      <td>0</td>\n",
       "      <td>0</td>\n",
       "      <td>19</td>\n",
       "      <td>10</td>\n",
       "      <td>79</td>\n",
       "      <td>1</td>\n",
       "      <td>-1</td>\n",
       "      <td>0</td>\n",
       "      <td>0</td>\n",
       "      <td>0</td>\n",
       "    </tr>\n",
       "    <tr>\n",
       "      <th>1</th>\n",
       "      <td>33</td>\n",
       "      <td>1</td>\n",
       "      <td>1</td>\n",
       "      <td>1</td>\n",
       "      <td>0</td>\n",
       "      <td>4789</td>\n",
       "      <td>1</td>\n",
       "      <td>1</td>\n",
       "      <td>0</td>\n",
       "      <td>11</td>\n",
       "      <td>5</td>\n",
       "      <td>220</td>\n",
       "      <td>1</td>\n",
       "      <td>339</td>\n",
       "      <td>4</td>\n",
       "      <td>1</td>\n",
       "      <td>0</td>\n",
       "    </tr>\n",
       "    <tr>\n",
       "      <th>2</th>\n",
       "      <td>35</td>\n",
       "      <td>2</td>\n",
       "      <td>0</td>\n",
       "      <td>2</td>\n",
       "      <td>0</td>\n",
       "      <td>1350</td>\n",
       "      <td>1</td>\n",
       "      <td>0</td>\n",
       "      <td>0</td>\n",
       "      <td>16</td>\n",
       "      <td>4</td>\n",
       "      <td>185</td>\n",
       "      <td>1</td>\n",
       "      <td>330</td>\n",
       "      <td>1</td>\n",
       "      <td>1</td>\n",
       "      <td>0</td>\n",
       "    </tr>\n",
       "    <tr>\n",
       "      <th>3</th>\n",
       "      <td>30</td>\n",
       "      <td>2</td>\n",
       "      <td>1</td>\n",
       "      <td>2</td>\n",
       "      <td>0</td>\n",
       "      <td>1476</td>\n",
       "      <td>1</td>\n",
       "      <td>1</td>\n",
       "      <td>1</td>\n",
       "      <td>3</td>\n",
       "      <td>6</td>\n",
       "      <td>199</td>\n",
       "      <td>4</td>\n",
       "      <td>-1</td>\n",
       "      <td>0</td>\n",
       "      <td>0</td>\n",
       "      <td>0</td>\n",
       "    </tr>\n",
       "    <tr>\n",
       "      <th>4</th>\n",
       "      <td>59</td>\n",
       "      <td>3</td>\n",
       "      <td>1</td>\n",
       "      <td>1</td>\n",
       "      <td>0</td>\n",
       "      <td>0</td>\n",
       "      <td>1</td>\n",
       "      <td>0</td>\n",
       "      <td>1</td>\n",
       "      <td>5</td>\n",
       "      <td>5</td>\n",
       "      <td>226</td>\n",
       "      <td>1</td>\n",
       "      <td>-1</td>\n",
       "      <td>0</td>\n",
       "      <td>0</td>\n",
       "      <td>0</td>\n",
       "    </tr>\n",
       "  </tbody>\n",
       "</table>\n",
       "</div>"
      ],
      "text/plain": [
       "   age  job  marital  education  default  balance  housing  loan  contact  \\\n",
       "0   30    0        1          0        0     1787        0     0        0   \n",
       "1   33    1        1          1        0     4789        1     1        0   \n",
       "2   35    2        0          2        0     1350        1     0        0   \n",
       "3   30    2        1          2        0     1476        1     1        1   \n",
       "4   59    3        1          1        0        0        1     0        1   \n",
       "\n",
       "   day  month  duration  campaign  pdays  previous  poutcome  y  \n",
       "0   19     10        79         1     -1         0         0  0  \n",
       "1   11      5       220         1    339         4         1  0  \n",
       "2   16      4       185         1    330         1         1  0  \n",
       "3    3      6       199         4     -1         0         0  0  \n",
       "4    5      5       226         1     -1         0         0  0  "
      ]
     },
     "execution_count": 24,
     "metadata": {},
     "output_type": "execute_result"
    }
   ],
   "source": [
    "d = {'yes': 1, 'no': 0}\n",
    "df_banks['default'] = df_banks['default'].map(d)\n",
    "df_banks['housing'] = df_banks['housing'].map(d)\n",
    "df_banks['loan'] = df_banks['loan'].map(d)\n",
    "df_banks['y'] = df_banks['y'].map(d)\n",
    "\n",
    "p = {'primary': 0, 'secondary': 1, 'tertiary': 2, \"unknown\":3}\n",
    "df_banks['education'] = df_banks['education'].map(p)\n",
    "m = {'single': 0, 'married': 1, 'divorced': 2}\n",
    "df_banks['marital'] = df_banks['marital'].map(m)\n",
    "j = {'unemployed':0, 'services':1, 'management':2, 'blue-collar':3,\n",
    "       'self-employed':4, 'technician':5, 'entrepreneur':6, 'admin.':7, 'student':8,\n",
    "       'housemaid':9, 'retired':10, 'unknown':11}\n",
    "df_banks['job'] = df_banks['job'].map(j)\n",
    "month = {'oct':10, 'may':5, 'apr':4, 'jun':6, 'feb':2, 'aug':8, 'jan':1, 'jul':7, 'nov':11,\n",
    "       'sep':9, 'mar':3, 'dec':12}\n",
    "df_banks['month'] = df_banks['month'].map(month)\n",
    "d = {'cellular': 0, 'unknown': 1, 'telephone': 2}\n",
    "df_banks['contact'] = df_banks['contact'].map(d)\n",
    "d = {'unknown': 0, 'failure': 1, 'other': 2, 'success' : 3}\n",
    "df_banks['poutcome'] = df_banks['poutcome'].map(d)\n",
    "df_banks.head()"
   ]
  },
  {
   "cell_type": "code",
   "execution_count": 25,
   "id": "240becb3",
   "metadata": {
    "scrolled": true
   },
   "outputs": [
    {
     "data": {
      "text/html": [
       "<div>\n",
       "<style scoped>\n",
       "    .dataframe tbody tr th:only-of-type {\n",
       "        vertical-align: middle;\n",
       "    }\n",
       "\n",
       "    .dataframe tbody tr th {\n",
       "        vertical-align: top;\n",
       "    }\n",
       "\n",
       "    .dataframe thead th {\n",
       "        text-align: right;\n",
       "    }\n",
       "</style>\n",
       "<table border=\"1\" class=\"dataframe\">\n",
       "  <thead>\n",
       "    <tr style=\"text-align: right;\">\n",
       "      <th></th>\n",
       "      <th>age</th>\n",
       "      <th>job</th>\n",
       "      <th>marital</th>\n",
       "      <th>education</th>\n",
       "      <th>default</th>\n",
       "      <th>balance</th>\n",
       "      <th>housing</th>\n",
       "      <th>loan</th>\n",
       "      <th>contact</th>\n",
       "      <th>day</th>\n",
       "      <th>month</th>\n",
       "      <th>duration</th>\n",
       "      <th>campaign</th>\n",
       "      <th>pdays</th>\n",
       "      <th>previous</th>\n",
       "      <th>poutcome</th>\n",
       "      <th>y</th>\n",
       "    </tr>\n",
       "  </thead>\n",
       "  <tbody>\n",
       "    <tr>\n",
       "      <th>age</th>\n",
       "      <td>1.00</td>\n",
       "      <td>0.25</td>\n",
       "      <td>0.38</td>\n",
       "      <td>-0.12</td>\n",
       "      <td>-0.02</td>\n",
       "      <td>0.08</td>\n",
       "      <td>-0.19</td>\n",
       "      <td>-0.01</td>\n",
       "      <td>0.12</td>\n",
       "      <td>-0.02</td>\n",
       "      <td>0.07</td>\n",
       "      <td>-0.00</td>\n",
       "      <td>-0.01</td>\n",
       "      <td>-0.01</td>\n",
       "      <td>-0.00</td>\n",
       "      <td>0.03</td>\n",
       "      <td>0.05</td>\n",
       "    </tr>\n",
       "    <tr>\n",
       "      <th>job</th>\n",
       "      <td>0.25</td>\n",
       "      <td>1.00</td>\n",
       "      <td>0.02</td>\n",
       "      <td>-0.09</td>\n",
       "      <td>-0.00</td>\n",
       "      <td>0.05</td>\n",
       "      <td>-0.16</td>\n",
       "      <td>0.00</td>\n",
       "      <td>0.02</td>\n",
       "      <td>0.00</td>\n",
       "      <td>0.03</td>\n",
       "      <td>-0.01</td>\n",
       "      <td>-0.04</td>\n",
       "      <td>0.00</td>\n",
       "      <td>0.02</td>\n",
       "      <td>0.05</td>\n",
       "      <td>0.07</td>\n",
       "    </tr>\n",
       "    <tr>\n",
       "      <th>marital</th>\n",
       "      <td>0.38</td>\n",
       "      <td>0.02</td>\n",
       "      <td>1.00</td>\n",
       "      <td>-0.10</td>\n",
       "      <td>0.02</td>\n",
       "      <td>-0.02</td>\n",
       "      <td>0.03</td>\n",
       "      <td>0.05</td>\n",
       "      <td>0.07</td>\n",
       "      <td>-0.01</td>\n",
       "      <td>0.05</td>\n",
       "      <td>-0.01</td>\n",
       "      <td>-0.01</td>\n",
       "      <td>-0.02</td>\n",
       "      <td>-0.04</td>\n",
       "      <td>-0.03</td>\n",
       "      <td>-0.02</td>\n",
       "    </tr>\n",
       "    <tr>\n",
       "      <th>education</th>\n",
       "      <td>-0.12</td>\n",
       "      <td>-0.09</td>\n",
       "      <td>-0.10</td>\n",
       "      <td>1.00</td>\n",
       "      <td>-0.01</td>\n",
       "      <td>0.06</td>\n",
       "      <td>-0.09</td>\n",
       "      <td>-0.05</td>\n",
       "      <td>-0.11</td>\n",
       "      <td>0.01</td>\n",
       "      <td>0.06</td>\n",
       "      <td>-0.01</td>\n",
       "      <td>-0.00</td>\n",
       "      <td>0.01</td>\n",
       "      <td>0.02</td>\n",
       "      <td>0.05</td>\n",
       "      <td>0.04</td>\n",
       "    </tr>\n",
       "    <tr>\n",
       "      <th>default</th>\n",
       "      <td>-0.02</td>\n",
       "      <td>-0.00</td>\n",
       "      <td>0.02</td>\n",
       "      <td>-0.01</td>\n",
       "      <td>1.00</td>\n",
       "      <td>-0.07</td>\n",
       "      <td>0.01</td>\n",
       "      <td>0.06</td>\n",
       "      <td>-0.01</td>\n",
       "      <td>-0.01</td>\n",
       "      <td>0.01</td>\n",
       "      <td>-0.01</td>\n",
       "      <td>-0.01</td>\n",
       "      <td>-0.03</td>\n",
       "      <td>-0.03</td>\n",
       "      <td>-0.03</td>\n",
       "      <td>0.00</td>\n",
       "    </tr>\n",
       "    <tr>\n",
       "      <th>balance</th>\n",
       "      <td>0.08</td>\n",
       "      <td>0.05</td>\n",
       "      <td>-0.02</td>\n",
       "      <td>0.06</td>\n",
       "      <td>-0.07</td>\n",
       "      <td>1.00</td>\n",
       "      <td>-0.05</td>\n",
       "      <td>-0.07</td>\n",
       "      <td>0.01</td>\n",
       "      <td>-0.01</td>\n",
       "      <td>0.10</td>\n",
       "      <td>-0.02</td>\n",
       "      <td>-0.01</td>\n",
       "      <td>0.01</td>\n",
       "      <td>0.03</td>\n",
       "      <td>0.03</td>\n",
       "      <td>0.02</td>\n",
       "    </tr>\n",
       "    <tr>\n",
       "      <th>housing</th>\n",
       "      <td>-0.19</td>\n",
       "      <td>-0.16</td>\n",
       "      <td>0.03</td>\n",
       "      <td>-0.09</td>\n",
       "      <td>0.01</td>\n",
       "      <td>-0.05</td>\n",
       "      <td>1.00</td>\n",
       "      <td>0.02</td>\n",
       "      <td>0.10</td>\n",
       "      <td>-0.03</td>\n",
       "      <td>-0.17</td>\n",
       "      <td>0.02</td>\n",
       "      <td>-0.00</td>\n",
       "      <td>0.12</td>\n",
       "      <td>0.04</td>\n",
       "      <td>0.01</td>\n",
       "      <td>-0.10</td>\n",
       "    </tr>\n",
       "    <tr>\n",
       "      <th>loan</th>\n",
       "      <td>-0.01</td>\n",
       "      <td>0.00</td>\n",
       "      <td>0.05</td>\n",
       "      <td>-0.05</td>\n",
       "      <td>0.06</td>\n",
       "      <td>-0.07</td>\n",
       "      <td>0.02</td>\n",
       "      <td>1.00</td>\n",
       "      <td>-0.01</td>\n",
       "      <td>-0.00</td>\n",
       "      <td>0.04</td>\n",
       "      <td>-0.00</td>\n",
       "      <td>0.02</td>\n",
       "      <td>-0.03</td>\n",
       "      <td>-0.02</td>\n",
       "      <td>-0.05</td>\n",
       "      <td>-0.07</td>\n",
       "    </tr>\n",
       "    <tr>\n",
       "      <th>contact</th>\n",
       "      <td>0.12</td>\n",
       "      <td>0.02</td>\n",
       "      <td>0.07</td>\n",
       "      <td>-0.11</td>\n",
       "      <td>-0.01</td>\n",
       "      <td>0.01</td>\n",
       "      <td>0.10</td>\n",
       "      <td>-0.01</td>\n",
       "      <td>1.00</td>\n",
       "      <td>0.01</td>\n",
       "      <td>-0.13</td>\n",
       "      <td>-0.02</td>\n",
       "      <td>0.03</td>\n",
       "      <td>-0.17</td>\n",
       "      <td>-0.12</td>\n",
       "      <td>-0.15</td>\n",
       "      <td>-0.08</td>\n",
       "    </tr>\n",
       "    <tr>\n",
       "      <th>day</th>\n",
       "      <td>-0.02</td>\n",
       "      <td>0.00</td>\n",
       "      <td>-0.01</td>\n",
       "      <td>0.01</td>\n",
       "      <td>-0.01</td>\n",
       "      <td>-0.01</td>\n",
       "      <td>-0.03</td>\n",
       "      <td>-0.00</td>\n",
       "      <td>0.01</td>\n",
       "      <td>1.00</td>\n",
       "      <td>0.08</td>\n",
       "      <td>-0.02</td>\n",
       "      <td>0.16</td>\n",
       "      <td>-0.09</td>\n",
       "      <td>-0.06</td>\n",
       "      <td>-0.06</td>\n",
       "      <td>-0.01</td>\n",
       "    </tr>\n",
       "    <tr>\n",
       "      <th>month</th>\n",
       "      <td>0.07</td>\n",
       "      <td>0.03</td>\n",
       "      <td>0.05</td>\n",
       "      <td>0.06</td>\n",
       "      <td>0.01</td>\n",
       "      <td>0.10</td>\n",
       "      <td>-0.17</td>\n",
       "      <td>0.04</td>\n",
       "      <td>-0.13</td>\n",
       "      <td>0.08</td>\n",
       "      <td>1.00</td>\n",
       "      <td>-0.00</td>\n",
       "      <td>0.06</td>\n",
       "      <td>-0.11</td>\n",
       "      <td>-0.04</td>\n",
       "      <td>-0.04</td>\n",
       "      <td>0.02</td>\n",
       "    </tr>\n",
       "    <tr>\n",
       "      <th>duration</th>\n",
       "      <td>-0.00</td>\n",
       "      <td>-0.01</td>\n",
       "      <td>-0.01</td>\n",
       "      <td>-0.01</td>\n",
       "      <td>-0.01</td>\n",
       "      <td>-0.02</td>\n",
       "      <td>0.02</td>\n",
       "      <td>-0.00</td>\n",
       "      <td>-0.02</td>\n",
       "      <td>-0.02</td>\n",
       "      <td>-0.00</td>\n",
       "      <td>1.00</td>\n",
       "      <td>-0.07</td>\n",
       "      <td>0.01</td>\n",
       "      <td>0.02</td>\n",
       "      <td>0.04</td>\n",
       "      <td>0.40</td>\n",
       "    </tr>\n",
       "    <tr>\n",
       "      <th>campaign</th>\n",
       "      <td>-0.01</td>\n",
       "      <td>-0.04</td>\n",
       "      <td>-0.01</td>\n",
       "      <td>-0.00</td>\n",
       "      <td>-0.01</td>\n",
       "      <td>-0.01</td>\n",
       "      <td>-0.00</td>\n",
       "      <td>0.02</td>\n",
       "      <td>0.03</td>\n",
       "      <td>0.16</td>\n",
       "      <td>0.06</td>\n",
       "      <td>-0.07</td>\n",
       "      <td>1.00</td>\n",
       "      <td>-0.09</td>\n",
       "      <td>-0.07</td>\n",
       "      <td>-0.10</td>\n",
       "      <td>-0.06</td>\n",
       "    </tr>\n",
       "    <tr>\n",
       "      <th>pdays</th>\n",
       "      <td>-0.01</td>\n",
       "      <td>0.00</td>\n",
       "      <td>-0.02</td>\n",
       "      <td>0.01</td>\n",
       "      <td>-0.03</td>\n",
       "      <td>0.01</td>\n",
       "      <td>0.12</td>\n",
       "      <td>-0.03</td>\n",
       "      <td>-0.17</td>\n",
       "      <td>-0.09</td>\n",
       "      <td>-0.11</td>\n",
       "      <td>0.01</td>\n",
       "      <td>-0.09</td>\n",
       "      <td>1.00</td>\n",
       "      <td>0.58</td>\n",
       "      <td>0.71</td>\n",
       "      <td>0.10</td>\n",
       "    </tr>\n",
       "    <tr>\n",
       "      <th>previous</th>\n",
       "      <td>-0.00</td>\n",
       "      <td>0.02</td>\n",
       "      <td>-0.04</td>\n",
       "      <td>0.02</td>\n",
       "      <td>-0.03</td>\n",
       "      <td>0.03</td>\n",
       "      <td>0.04</td>\n",
       "      <td>-0.02</td>\n",
       "      <td>-0.12</td>\n",
       "      <td>-0.06</td>\n",
       "      <td>-0.04</td>\n",
       "      <td>0.02</td>\n",
       "      <td>-0.07</td>\n",
       "      <td>0.58</td>\n",
       "      <td>1.00</td>\n",
       "      <td>0.62</td>\n",
       "      <td>0.12</td>\n",
       "    </tr>\n",
       "    <tr>\n",
       "      <th>poutcome</th>\n",
       "      <td>0.03</td>\n",
       "      <td>0.05</td>\n",
       "      <td>-0.03</td>\n",
       "      <td>0.05</td>\n",
       "      <td>-0.03</td>\n",
       "      <td>0.03</td>\n",
       "      <td>0.01</td>\n",
       "      <td>-0.05</td>\n",
       "      <td>-0.15</td>\n",
       "      <td>-0.06</td>\n",
       "      <td>-0.04</td>\n",
       "      <td>0.04</td>\n",
       "      <td>-0.10</td>\n",
       "      <td>0.71</td>\n",
       "      <td>0.62</td>\n",
       "      <td>1.00</td>\n",
       "      <td>0.25</td>\n",
       "    </tr>\n",
       "    <tr>\n",
       "      <th>y</th>\n",
       "      <td>0.05</td>\n",
       "      <td>0.07</td>\n",
       "      <td>-0.02</td>\n",
       "      <td>0.04</td>\n",
       "      <td>0.00</td>\n",
       "      <td>0.02</td>\n",
       "      <td>-0.10</td>\n",
       "      <td>-0.07</td>\n",
       "      <td>-0.08</td>\n",
       "      <td>-0.01</td>\n",
       "      <td>0.02</td>\n",
       "      <td>0.40</td>\n",
       "      <td>-0.06</td>\n",
       "      <td>0.10</td>\n",
       "      <td>0.12</td>\n",
       "      <td>0.25</td>\n",
       "      <td>1.00</td>\n",
       "    </tr>\n",
       "  </tbody>\n",
       "</table>\n",
       "</div>"
      ],
      "text/plain": [
       "            age   job  marital  education  default  balance  housing  loan  \\\n",
       "age        1.00  0.25     0.38      -0.12    -0.02     0.08    -0.19 -0.01   \n",
       "job        0.25  1.00     0.02      -0.09    -0.00     0.05    -0.16  0.00   \n",
       "marital    0.38  0.02     1.00      -0.10     0.02    -0.02     0.03  0.05   \n",
       "education -0.12 -0.09    -0.10       1.00    -0.01     0.06    -0.09 -0.05   \n",
       "default   -0.02 -0.00     0.02      -0.01     1.00    -0.07     0.01  0.06   \n",
       "balance    0.08  0.05    -0.02       0.06    -0.07     1.00    -0.05 -0.07   \n",
       "housing   -0.19 -0.16     0.03      -0.09     0.01    -0.05     1.00  0.02   \n",
       "loan      -0.01  0.00     0.05      -0.05     0.06    -0.07     0.02  1.00   \n",
       "contact    0.12  0.02     0.07      -0.11    -0.01     0.01     0.10 -0.01   \n",
       "day       -0.02  0.00    -0.01       0.01    -0.01    -0.01    -0.03 -0.00   \n",
       "month      0.07  0.03     0.05       0.06     0.01     0.10    -0.17  0.04   \n",
       "duration  -0.00 -0.01    -0.01      -0.01    -0.01    -0.02     0.02 -0.00   \n",
       "campaign  -0.01 -0.04    -0.01      -0.00    -0.01    -0.01    -0.00  0.02   \n",
       "pdays     -0.01  0.00    -0.02       0.01    -0.03     0.01     0.12 -0.03   \n",
       "previous  -0.00  0.02    -0.04       0.02    -0.03     0.03     0.04 -0.02   \n",
       "poutcome   0.03  0.05    -0.03       0.05    -0.03     0.03     0.01 -0.05   \n",
       "y          0.05  0.07    -0.02       0.04     0.00     0.02    -0.10 -0.07   \n",
       "\n",
       "           contact   day  month  duration  campaign  pdays  previous  \\\n",
       "age           0.12 -0.02   0.07     -0.00     -0.01  -0.01     -0.00   \n",
       "job           0.02  0.00   0.03     -0.01     -0.04   0.00      0.02   \n",
       "marital       0.07 -0.01   0.05     -0.01     -0.01  -0.02     -0.04   \n",
       "education    -0.11  0.01   0.06     -0.01     -0.00   0.01      0.02   \n",
       "default      -0.01 -0.01   0.01     -0.01     -0.01  -0.03     -0.03   \n",
       "balance       0.01 -0.01   0.10     -0.02     -0.01   0.01      0.03   \n",
       "housing       0.10 -0.03  -0.17      0.02     -0.00   0.12      0.04   \n",
       "loan         -0.01 -0.00   0.04     -0.00      0.02  -0.03     -0.02   \n",
       "contact       1.00  0.01  -0.13     -0.02      0.03  -0.17     -0.12   \n",
       "day           0.01  1.00   0.08     -0.02      0.16  -0.09     -0.06   \n",
       "month        -0.13  0.08   1.00     -0.00      0.06  -0.11     -0.04   \n",
       "duration     -0.02 -0.02  -0.00      1.00     -0.07   0.01      0.02   \n",
       "campaign      0.03  0.16   0.06     -0.07      1.00  -0.09     -0.07   \n",
       "pdays        -0.17 -0.09  -0.11      0.01     -0.09   1.00      0.58   \n",
       "previous     -0.12 -0.06  -0.04      0.02     -0.07   0.58      1.00   \n",
       "poutcome     -0.15 -0.06  -0.04      0.04     -0.10   0.71      0.62   \n",
       "y            -0.08 -0.01   0.02      0.40     -0.06   0.10      0.12   \n",
       "\n",
       "           poutcome     y  \n",
       "age            0.03  0.05  \n",
       "job            0.05  0.07  \n",
       "marital       -0.03 -0.02  \n",
       "education      0.05  0.04  \n",
       "default       -0.03  0.00  \n",
       "balance        0.03  0.02  \n",
       "housing        0.01 -0.10  \n",
       "loan          -0.05 -0.07  \n",
       "contact       -0.15 -0.08  \n",
       "day           -0.06 -0.01  \n",
       "month         -0.04  0.02  \n",
       "duration       0.04  0.40  \n",
       "campaign      -0.10 -0.06  \n",
       "pdays          0.71  0.10  \n",
       "previous       0.62  0.12  \n",
       "poutcome       1.00  0.25  \n",
       "y              0.25  1.00  "
      ]
     },
     "execution_count": 25,
     "metadata": {},
     "output_type": "execute_result"
    }
   ],
   "source": [
    "cormat = df_banks.corr()\n",
    "round(cormat,2)"
   ]
  },
  {
   "cell_type": "code",
   "execution_count": 26,
   "id": "0361d884",
   "metadata": {},
   "outputs": [
    {
     "data": {
      "text/plain": [
       "housing     0.104683\n",
       "duration    0.401118\n",
       "pdays       0.104087\n",
       "previous    0.116714\n",
       "poutcome    0.246566\n",
       "y           1.000000\n",
       "Name: y, dtype: float64"
      ]
     },
     "execution_count": 26,
     "metadata": {},
     "output_type": "execute_result"
    }
   ],
   "source": [
    "y_cors = np.absolute(cormat)[\"y\"]\n",
    "y_cors[y_cors>=0.1]"
   ]
  },
  {
   "cell_type": "code",
   "execution_count": 27,
   "id": "e90826cf",
   "metadata": {},
   "outputs": [
    {
     "data": {
      "image/png": "[encoded data removed]",
      "text/plain": [
       "<Figure size 432x288 with 2 Axes>"
      ]
     },
     "metadata": {
      "needs_background": "light"
     },
     "output_type": "display_data"
    }
   ],
   "source": [
    "sns.heatmap(cormat);"
   ]
  },
  {
   "cell_type": "code",
   "execution_count": 28,
   "id": "a853b92c",
   "metadata": {},
   "outputs": [],
   "source": [
    "#From the heat map, it is evident that the attribute 'housing' is least related to the output variable, \n",
    "#Housing is dropped from the dataframe\n",
    "df_banks = df_banks.drop(columns=[\"housing\"])"
   ]
  },
  {
   "cell_type": "code",
   "execution_count": 29,
   "id": "df2df146",
   "metadata": {},
   "outputs": [],
   "source": [
    "#decision trees\n",
    "y = df_banks[\"y\"]\n",
    "X = df_banks.drop(columns=\"y\")"
   ]
  },
  {
   "cell_type": "markdown",
   "id": "3af28060",
   "metadata": {},
   "source": [
    "#### Splitting train set and test set"
   ]
  },
  {
   "cell_type": "code",
   "execution_count": 30,
   "id": "c65c2533",
   "metadata": {},
   "outputs": [
    {
     "data": {
      "text/html": [
       "<div>\n",
       "<style scoped>\n",
       "    .dataframe tbody tr th:only-of-type {\n",
       "        vertical-align: middle;\n",
       "    }\n",
       "\n",
       "    .dataframe tbody tr th {\n",
       "        vertical-align: top;\n",
       "    }\n",
       "\n",
       "    .dataframe thead th {\n",
       "        text-align: right;\n",
       "    }\n",
       "</style>\n",
       "<table border=\"1\" class=\"dataframe\">\n",
       "  <thead>\n",
       "    <tr style=\"text-align: right;\">\n",
       "      <th></th>\n",
       "      <th>age</th>\n",
       "      <th>job</th>\n",
       "      <th>marital</th>\n",
       "      <th>education</th>\n",
       "      <th>default</th>\n",
       "      <th>balance</th>\n",
       "      <th>loan</th>\n",
       "      <th>contact</th>\n",
       "      <th>day</th>\n",
       "      <th>month</th>\n",
       "      <th>duration</th>\n",
       "      <th>campaign</th>\n",
       "      <th>pdays</th>\n",
       "      <th>previous</th>\n",
       "      <th>poutcome</th>\n",
       "    </tr>\n",
       "  </thead>\n",
       "  <tbody>\n",
       "    <tr>\n",
       "      <th>1494</th>\n",
       "      <td>27</td>\n",
       "      <td>1</td>\n",
       "      <td>0</td>\n",
       "      <td>1</td>\n",
       "      <td>0</td>\n",
       "      <td>-124</td>\n",
       "      <td>0</td>\n",
       "      <td>0</td>\n",
       "      <td>18</td>\n",
       "      <td>7</td>\n",
       "      <td>217</td>\n",
       "      <td>1</td>\n",
       "      <td>-1</td>\n",
       "      <td>0</td>\n",
       "      <td>0</td>\n",
       "    </tr>\n",
       "    <tr>\n",
       "      <th>3298</th>\n",
       "      <td>27</td>\n",
       "      <td>5</td>\n",
       "      <td>0</td>\n",
       "      <td>2</td>\n",
       "      <td>0</td>\n",
       "      <td>808</td>\n",
       "      <td>0</td>\n",
       "      <td>0</td>\n",
       "      <td>15</td>\n",
       "      <td>5</td>\n",
       "      <td>578</td>\n",
       "      <td>1</td>\n",
       "      <td>364</td>\n",
       "      <td>1</td>\n",
       "      <td>2</td>\n",
       "    </tr>\n",
       "    <tr>\n",
       "      <th>2909</th>\n",
       "      <td>39</td>\n",
       "      <td>7</td>\n",
       "      <td>1</td>\n",
       "      <td>1</td>\n",
       "      <td>0</td>\n",
       "      <td>406</td>\n",
       "      <td>0</td>\n",
       "      <td>0</td>\n",
       "      <td>30</td>\n",
       "      <td>7</td>\n",
       "      <td>253</td>\n",
       "      <td>5</td>\n",
       "      <td>-1</td>\n",
       "      <td>0</td>\n",
       "      <td>0</td>\n",
       "    </tr>\n",
       "    <tr>\n",
       "      <th>3007</th>\n",
       "      <td>44</td>\n",
       "      <td>3</td>\n",
       "      <td>1</td>\n",
       "      <td>1</td>\n",
       "      <td>0</td>\n",
       "      <td>508</td>\n",
       "      <td>0</td>\n",
       "      <td>0</td>\n",
       "      <td>20</td>\n",
       "      <td>4</td>\n",
       "      <td>222</td>\n",
       "      <td>1</td>\n",
       "      <td>154</td>\n",
       "      <td>1</td>\n",
       "      <td>1</td>\n",
       "    </tr>\n",
       "    <tr>\n",
       "      <th>2496</th>\n",
       "      <td>46</td>\n",
       "      <td>2</td>\n",
       "      <td>0</td>\n",
       "      <td>2</td>\n",
       "      <td>0</td>\n",
       "      <td>593</td>\n",
       "      <td>0</td>\n",
       "      <td>0</td>\n",
       "      <td>29</td>\n",
       "      <td>1</td>\n",
       "      <td>190</td>\n",
       "      <td>3</td>\n",
       "      <td>-1</td>\n",
       "      <td>0</td>\n",
       "      <td>0</td>\n",
       "    </tr>\n",
       "    <tr>\n",
       "      <th>...</th>\n",
       "      <td>...</td>\n",
       "      <td>...</td>\n",
       "      <td>...</td>\n",
       "      <td>...</td>\n",
       "      <td>...</td>\n",
       "      <td>...</td>\n",
       "      <td>...</td>\n",
       "      <td>...</td>\n",
       "      <td>...</td>\n",
       "      <td>...</td>\n",
       "      <td>...</td>\n",
       "      <td>...</td>\n",
       "      <td>...</td>\n",
       "      <td>...</td>\n",
       "      <td>...</td>\n",
       "    </tr>\n",
       "    <tr>\n",
       "      <th>2269</th>\n",
       "      <td>27</td>\n",
       "      <td>1</td>\n",
       "      <td>0</td>\n",
       "      <td>1</td>\n",
       "      <td>0</td>\n",
       "      <td>0</td>\n",
       "      <td>0</td>\n",
       "      <td>1</td>\n",
       "      <td>7</td>\n",
       "      <td>5</td>\n",
       "      <td>388</td>\n",
       "      <td>7</td>\n",
       "      <td>-1</td>\n",
       "      <td>0</td>\n",
       "      <td>0</td>\n",
       "    </tr>\n",
       "    <tr>\n",
       "      <th>4379</th>\n",
       "      <td>41</td>\n",
       "      <td>3</td>\n",
       "      <td>1</td>\n",
       "      <td>0</td>\n",
       "      <td>0</td>\n",
       "      <td>1172</td>\n",
       "      <td>0</td>\n",
       "      <td>1</td>\n",
       "      <td>15</td>\n",
       "      <td>5</td>\n",
       "      <td>153</td>\n",
       "      <td>1</td>\n",
       "      <td>-1</td>\n",
       "      <td>0</td>\n",
       "      <td>0</td>\n",
       "    </tr>\n",
       "    <tr>\n",
       "      <th>1332</th>\n",
       "      <td>45</td>\n",
       "      <td>7</td>\n",
       "      <td>1</td>\n",
       "      <td>1</td>\n",
       "      <td>0</td>\n",
       "      <td>204</td>\n",
       "      <td>0</td>\n",
       "      <td>0</td>\n",
       "      <td>3</td>\n",
       "      <td>6</td>\n",
       "      <td>224</td>\n",
       "      <td>2</td>\n",
       "      <td>-1</td>\n",
       "      <td>0</td>\n",
       "      <td>0</td>\n",
       "    </tr>\n",
       "    <tr>\n",
       "      <th>1120</th>\n",
       "      <td>48</td>\n",
       "      <td>6</td>\n",
       "      <td>1</td>\n",
       "      <td>1</td>\n",
       "      <td>0</td>\n",
       "      <td>725</td>\n",
       "      <td>1</td>\n",
       "      <td>0</td>\n",
       "      <td>10</td>\n",
       "      <td>7</td>\n",
       "      <td>105</td>\n",
       "      <td>1</td>\n",
       "      <td>-1</td>\n",
       "      <td>0</td>\n",
       "      <td>0</td>\n",
       "    </tr>\n",
       "    <tr>\n",
       "      <th>2703</th>\n",
       "      <td>21</td>\n",
       "      <td>8</td>\n",
       "      <td>0</td>\n",
       "      <td>3</td>\n",
       "      <td>0</td>\n",
       "      <td>137</td>\n",
       "      <td>0</td>\n",
       "      <td>1</td>\n",
       "      <td>12</td>\n",
       "      <td>5</td>\n",
       "      <td>198</td>\n",
       "      <td>3</td>\n",
       "      <td>-1</td>\n",
       "      <td>0</td>\n",
       "      <td>0</td>\n",
       "    </tr>\n",
       "  </tbody>\n",
       "</table>\n",
       "<p>3390 rows × 15 columns</p>\n",
       "</div>"
      ],
      "text/plain": [
       "      age  job  marital  education  default  balance  loan  contact  day  \\\n",
       "1494   27    1        0          1        0     -124     0        0   18   \n",
       "3298   27    5        0          2        0      808     0        0   15   \n",
       "2909   39    7        1          1        0      406     0        0   30   \n",
       "3007   44    3        1          1        0      508     0        0   20   \n",
       "2496   46    2        0          2        0      593     0        0   29   \n",
       "...   ...  ...      ...        ...      ...      ...   ...      ...  ...   \n",
       "2269   27    1        0          1        0        0     0        1    7   \n",
       "4379   41    3        1          0        0     1172     0        1   15   \n",
       "1332   45    7        1          1        0      204     0        0    3   \n",
       "1120   48    6        1          1        0      725     1        0   10   \n",
       "2703   21    8        0          3        0      137     0        1   12   \n",
       "\n",
       "      month  duration  campaign  pdays  previous  poutcome  \n",
       "1494      7       217         1     -1         0         0  \n",
       "3298      5       578         1    364         1         2  \n",
       "2909      7       253         5     -1         0         0  \n",
       "3007      4       222         1    154         1         1  \n",
       "2496      1       190         3     -1         0         0  \n",
       "...     ...       ...       ...    ...       ...       ...  \n",
       "2269      5       388         7     -1         0         0  \n",
       "4379      5       153         1     -1         0         0  \n",
       "1332      6       224         2     -1         0         0  \n",
       "1120      7       105         1     -1         0         0  \n",
       "2703      5       198         3     -1         0         0  \n",
       "\n",
       "[3390 rows x 15 columns]"
      ]
     },
     "execution_count": 30,
     "metadata": {},
     "output_type": "execute_result"
    }
   ],
   "source": [
    "X_train, X_test, y_train, y_test = train_test_split(X, y, test_size=0.25, stratify = y, random_state = 200)\n",
    "X_train"
   ]
  },
  {
   "cell_type": "code",
   "execution_count": 31,
   "id": "2db063cb",
   "metadata": {},
   "outputs": [
    {
     "name": "stdout",
     "output_type": "stream",
     "text": [
      "shape of input - training set (3390, 15)\n",
      "shape of output - training set (3390,)\n",
      "shape of input - testing set (1131, 15)\n",
      "shape of output - testing set (1131,)\n"
     ]
    }
   ],
   "source": [
    "print(\"shape of input - training set\", X_train.shape)\n",
    "print(\"shape of output - training set\", y_train.shape)\n",
    "print(\"shape of input - testing set\", X_test.shape)\n",
    "print(\"shape of output - testing set\", y_test.shape)"
   ]
  },
  {
   "cell_type": "code",
   "execution_count": 32,
   "id": "e44b1e66",
   "metadata": {},
   "outputs": [
    {
     "name": "stdout",
     "output_type": "stream",
     "text": [
      "<class 'pandas.core.frame.DataFrame'>\n",
      "RangeIndex: 4521 entries, 0 to 4520\n",
      "Data columns (total 15 columns):\n",
      " #   Column     Non-Null Count  Dtype\n",
      "---  ------     --------------  -----\n",
      " 0   age        4521 non-null   int64\n",
      " 1   job        4521 non-null   int64\n",
      " 2   marital    4521 non-null   int64\n",
      " 3   education  4521 non-null   int64\n",
      " 4   default    4521 non-null   int64\n",
      " 5   balance    4521 non-null   int64\n",
      " 6   loan       4521 non-null   int64\n",
      " 7   contact    4521 non-null   int64\n",
      " 8   day        4521 non-null   int64\n",
      " 9   month      4521 non-null   int64\n",
      " 10  duration   4521 non-null   int64\n",
      " 11  campaign   4521 non-null   int64\n",
      " 12  pdays      4521 non-null   int64\n",
      " 13  previous   4521 non-null   int64\n",
      " 14  poutcome   4521 non-null   int64\n",
      "dtypes: int64(15)\n",
      "memory usage: 529.9 KB\n"
     ]
    }
   ],
   "source": [
    "X.info()"
   ]
  },
  {
   "cell_type": "code",
   "execution_count": 33,
   "id": "71920c91",
   "metadata": {},
   "outputs": [],
   "source": [
    "from sklearn.compose import make_column_transformer, make_column_selector\n",
    "from sklearn.pipeline import make_pipeline\n",
    "from sklearn.preprocessing import OneHotEncoder, StandardScaler, MinMaxScaler"
   ]
  },
  {
   "cell_type": "code",
   "execution_count": 34,
   "id": "210a47b0",
   "metadata": {},
   "outputs": [],
   "source": [
    " trf_preproc = make_column_transformer(\n",
    "    (MinMaxScaler(), make_column_selector(dtype_include=np.integer))\n",
    ")"
   ]
  },
  {
   "cell_type": "code",
   "execution_count": 35,
   "id": "ea271fe1",
   "metadata": {},
   "outputs": [],
   "source": [
    "kfold = StratifiedKFold(n_splits=10, random_state=10, shuffle=True)"
   ]
  },
  {
   "cell_type": "markdown",
   "id": "88f5ec85",
   "metadata": {},
   "source": [
    "## Decision Tree\n",
    "\n",
    "Decision Trees (DTs) are a non-parametric supervised learning method used for classification and regression. \n",
    "The goal is to create a model that predicts the value of a target variable by learning simple decision rules inferred from the data features."
   ]
  },
  {
   "cell_type": "code",
   "execution_count": 36,
   "id": "17e5ca69",
   "metadata": {},
   "outputs": [],
   "source": [
    "clf_tree = tree.DecisionTreeClassifier()\n",
    "clf_tree = clf_tree.fit(X_train, y_train)\n",
    "y_pred_tree = clf_tree.predict(X_test)"
   ]
  },
  {
   "cell_type": "code",
   "execution_count": 37,
   "id": "d05d2776",
   "metadata": {},
   "outputs": [
    {
     "name": "stdout",
     "output_type": "stream",
     "text": [
      "Accuracy for single train test split for decision tree: 0.8567639257294429\n",
      "              precision    recall  f1-score   support\n",
      "\n",
      "           0       0.92      0.91      0.92      1001\n",
      "           1       0.39      0.42      0.40       130\n",
      "\n",
      "    accuracy                           0.86      1131\n",
      "   macro avg       0.66      0.67      0.66      1131\n",
      "weighted avg       0.86      0.86      0.86      1131\n",
      "\n"
     ]
    }
   ],
   "source": [
    "print(\"Accuracy for single train test split for decision tree:\",metrics.accuracy_score(y_test, y_pred_tree))\n",
    "print(metrics.classification_report(y_test, y_pred_tree))"
   ]
  },
  {
   "cell_type": "markdown",
   "id": "ea3575af",
   "metadata": {},
   "source": [
    "#### With 10 fold cross validation"
   ]
  },
  {
   "cell_type": "code",
   "execution_count": 38,
   "id": "a0d8b4f9",
   "metadata": {},
   "outputs": [
    {
     "name": "stdout",
     "output_type": "stream",
     "text": [
      "Value for k from 1 to 10 :  [0.89403974 0.88716814 0.8539823  0.83185841 0.86061947 0.84292035\n",
      " 0.84734513 0.86283186 0.8539823  0.87610619]\n",
      "Mean Accuracy from 10 fold cross validation: 0.8610853894391373\n"
     ]
    }
   ],
   "source": [
    "cv_result = cross_val_score(clf_tree, X, y, cv = kfold, scoring = \"accuracy\")\n",
    "print(\"Value for k from 1 to 10 : \",cv_result)\n",
    "print(\"Mean Accuracy from 10 fold cross validation:\", cv_result.mean())"
   ]
  },
  {
   "cell_type": "markdown",
   "id": "12487566",
   "metadata": {},
   "source": [
    "## Random forest\n",
    "\n",
    "A random forest is a meta estimator that fits a number of decision tree classifiers on various sub-samples of the dataset and uses averaging to improve the predictive accuracy and control over-fitting."
   ]
  },
  {
   "cell_type": "code",
   "execution_count": 39,
   "id": "042a392f",
   "metadata": {},
   "outputs": [
    {
     "name": "stdout",
     "output_type": "stream",
     "text": [
      "Accuracy for random forest: 0.9027409372236959\n"
     ]
    }
   ],
   "source": [
    "clf_random =  RandomForestClassifier(n_estimators=10, \n",
    "                                     max_features=10,\n",
    "                                     min_samples_split=2,\n",
    "                                     criterion=\"entropy\",\n",
    "                                     random_state=10,\n",
    "                                     n_jobs=-1)\n",
    "clf_random = clf_random.fit(X_train,y_train)\n",
    "y_pred_random = clf_random.predict(X_test)\n",
    "print(\"Accuracy for random forest:\",metrics.accuracy_score(y_test, y_pred_random))"
   ]
  },
  {
   "cell_type": "markdown",
   "id": "6f8c2761",
   "metadata": {},
   "source": [
    "#### With 10 fold cross validation"
   ]
  },
  {
   "cell_type": "code",
   "execution_count": 40,
   "id": "ea3d2a40",
   "metadata": {},
   "outputs": [
    {
     "name": "stdout",
     "output_type": "stream",
     "text": [
      "Value for k from 1 to 10 :  [0.89403974 0.9159292  0.90486726 0.8960177  0.89380531 0.90486726\n",
      " 0.90486726 0.8960177  0.89823009 0.89823009]\n",
      "Mean Accuracy from 10 fold cross validation: 0.9006871593506418\n"
     ]
    }
   ],
   "source": [
    "y_preds = cross_val_predict(clf_random, X, y, cv=kfold)\n",
    "result = cross_val_score(clf_random, X, y, cv = kfold,scoring = \"accuracy\")\n",
    "print(\"Value for k from 1 to 10 : \",result)\n",
    "print(\"Mean Accuracy from 10 fold cross validation:\",result.mean())"
   ]
  },
  {
   "cell_type": "code",
   "execution_count": 41,
   "id": "d46f7c5b",
   "metadata": {},
   "outputs": [
    {
     "name": "stdout",
     "output_type": "stream",
     "text": [
      "[[3901   99]\n",
      " [ 350  171]]\n"
     ]
    }
   ],
   "source": [
    "print(confusion_matrix(y, y_preds))"
   ]
  },
  {
   "cell_type": "markdown",
   "id": "8528670c",
   "metadata": {},
   "source": [
    "##### Random Forest performs better and has better accuracy when compared to the decision tree"
   ]
  },
  {
   "cell_type": "markdown",
   "id": "ddb371d8",
   "metadata": {},
   "source": [
    "### KNN\n",
    "\n",
    "K nearest neighbor method is to find a predefined number of training samples closest in distance to the new point, and predict the label from these. \n",
    "The number of samples can be a user-defined constant (k-nearest neighbor learning), or vary based on the local density of points (radius-based neighbor learning)."
   ]
  },
  {
   "cell_type": "code",
   "execution_count": 42,
   "id": "fa11109d",
   "metadata": {},
   "outputs": [
    {
     "name": "stdout",
     "output_type": "stream",
     "text": [
      "Accuracy for KNN at K =10: 0.8885941644562334\n"
     ]
    }
   ],
   "source": [
    "knn = KNeighborsClassifier(n_neighbors=10)\n",
    "knn = knn.fit(X_train,y_train)\n",
    "pred_knn = knn.predict(X_test)\n",
    "print(\"Accuracy for KNN at K =10:\",metrics.accuracy_score(y_test, pred_knn))"
   ]
  },
  {
   "cell_type": "code",
   "execution_count": 43,
   "id": "582992f0",
   "metadata": {},
   "outputs": [
    {
     "name": "stdout",
     "output_type": "stream",
     "text": [
      "[[985  16]\n",
      " [110  20]]\n"
     ]
    }
   ],
   "source": [
    "print(confusion_matrix(y_test,pred_knn))"
   ]
  },
  {
   "cell_type": "markdown",
   "id": "0d202a00",
   "metadata": {},
   "source": [
    "#### With 10 fold cross validation"
   ]
  },
  {
   "cell_type": "code",
   "execution_count": 44,
   "id": "47fb8a68",
   "metadata": {},
   "outputs": [
    {
     "name": "stdout",
     "output_type": "stream",
     "text": [
      "Value for k from 1 to 10 :  [0.86975717 0.89159292 0.88716814 0.87610619 0.87610619 0.8960177\n",
      " 0.88495575 0.87389381 0.87389381 0.87831858]\n",
      "Mean Accuracy from 10 fold cross validation: 0.8807810271738068\n"
     ]
    }
   ],
   "source": [
    "result = cross_val_score(knn, X, y, cv = kfold,scoring = \"accuracy\")\n",
    "print(\"Value for k from 1 to 10 : \",result)\n",
    "print(\"Mean Accuracy from 10 fold cross validation:\",result.mean())"
   ]
  },
  {
   "cell_type": "code",
   "execution_count": 45,
   "id": "4ccee8dd",
   "metadata": {},
   "outputs": [
    {
     "name": "stdout",
     "output_type": "stream",
     "text": [
      "[0.14677276746242263, 0.11936339522546419, 0.1361626878868258, 0.12024756852343059, 0.12024756852343059, 0.11936339522546419, 0.12643678160919541, 0.11759504862953139, 0.11494252873563218, 0.11140583554376658, 0.11494252873563218, 0.11405835543766578, 0.12024756852343059, 0.11140583554376658, 0.11229000884173299, 0.11140583554376658, 0.11052166224580018, 0.10786914235190097, 0.11140583554376658, 0.11140583554376658, 0.11229000884173299, 0.11052166224580018, 0.11140583554376658, 0.10875331564986737, 0.11140583554376658, 0.11229000884173299, 0.11140583554376658, 0.11317418213969938, 0.11494252873563218, 0.11229000884173299, 0.11229000884173299, 0.11052166224580018, 0.11229000884173299, 0.11317418213969938, 0.11405835543766578, 0.11405835543766578, 0.11405835543766578, 0.11671087533156499, 0.11494252873563218, 0.11405835543766578, 0.11405835543766578, 0.11494252873563218, 0.11494252873563218, 0.11405835543766578, 0.11494252873563218, 0.11229000884173299, 0.11405835543766578, 0.11494252873563218, 0.11759504862953139, 0.11405835543766578]\n",
      "0.10786914235190097\n"
     ]
    }
   ],
   "source": [
    "error_rate = []\n",
    "for i in range(1,51):\n",
    "    knn = KNeighborsClassifier(n_neighbors=i)\n",
    "    knn.fit(X_train,y_train)\n",
    "    pred_i = knn.predict(X_test)\n",
    "    error_rate.append(np.mean(pred_i != y_test))\n",
    "\n",
    "\n",
    "print(error_rate)\n",
    "print(min(error_rate))\n"
   ]
  },
  {
   "cell_type": "code",
   "execution_count": 46,
   "id": "85ee2ed8",
   "metadata": {},
   "outputs": [
    {
     "name": "stdout",
     "output_type": "stream",
     "text": [
      "[0.8491506964386879, 0.8781246947586394, 0.8672874054972748, 0.876798726288851, 0.8712706831545841, 0.8796733673250111, 0.875473734591416, 0.8790116040555589, 0.877684658813417, 0.8807810271738068, 0.8794555470901951, 0.8834349176580906, 0.8816650061536657, 0.884319873410303, 0.8832131903338608, 0.8840981460860732, 0.8836542030514369, 0.8860883197561977, 0.8856458418800914, 0.8869732755084101, 0.8852033640039852, 0.8871940260602864, 0.8871935376741096, 0.8865307976323038, 0.8858670808181446, 0.8871940260602862, 0.8876360155502159, 0.8876365039363925, 0.8876365039363927, 0.8871945144464632, 0.8869727871222333, 0.8869732755084099, 0.8865303092461272, 0.8863095586942509, 0.8880789818124987, 0.8869737638945867, 0.8876374807087462, 0.887416241770693, 0.8869732755084099, 0.8863100470804275, 0.887194514446463, 0.8865317744046571, 0.8874167301568697, 0.8869742522807634, 0.8867525249565336, 0.8863105354666041, 0.8874162417706929, 0.8867530133427103, 0.8863105354666041, 0.886089296528551]\n"
     ]
    }
   ],
   "source": [
    "accuracy = []\n",
    "val = range(1,51)\n",
    "for i in val:\n",
    "    knn = KNeighborsClassifier(n_neighbors=i)\n",
    "    scores = cross_val_score(knn, X, y, cv = kfold,scoring = \"accuracy\")\n",
    "    accuracy.append((scores.mean()))\n",
    "print(accuracy)\n"
   ]
  },
  {
   "cell_type": "code",
   "execution_count": 47,
   "id": "0bc83af4",
   "metadata": {},
   "outputs": [],
   "source": [
    "accuracy = np.array(accuracy)"
   ]
  },
  {
   "cell_type": "code",
   "execution_count": 48,
   "id": "61a7ec7d",
   "metadata": {},
   "outputs": [
    {
     "data": {
      "text/plain": [
       "0.8880789818124987"
      ]
     },
     "execution_count": 48,
     "metadata": {},
     "output_type": "execute_result"
    }
   ],
   "source": [
    "np.max(accuracy)"
   ]
  },
  {
   "cell_type": "code",
   "execution_count": 49,
   "id": "244bec06",
   "metadata": {},
   "outputs": [
    {
     "data": {
      "text/plain": [
       "34"
      ]
     },
     "execution_count": 49,
     "metadata": {},
     "output_type": "execute_result"
    }
   ],
   "source": [
    "np.argmax(accuracy)"
   ]
  },
  {
   "cell_type": "code",
   "execution_count": 50,
   "id": "7f51e200",
   "metadata": {},
   "outputs": [
    {
     "data": {
      "text/plain": [
       "<AxesSubplot:>"
      ]
     },
     "execution_count": 50,
     "metadata": {},
     "output_type": "execute_result"
    },
    {
     "data": {
      "image/png": "[encoded data removed]",
      "text/plain": [
       "<Figure size 432x288 with 1 Axes>"
      ]
     },
     "metadata": {
      "needs_background": "light"
     },
     "output_type": "display_data"
    }
   ],
   "source": [
    "pd.Series(accuracy).plot()"
   ]
  },
  {
   "cell_type": "code",
   "execution_count": 51,
   "id": "1169bd97",
   "metadata": {},
   "outputs": [
    {
     "data": {
      "text/plain": [
       "<AxesSubplot:>"
      ]
     },
     "execution_count": 51,
     "metadata": {},
     "output_type": "execute_result"
    },
    {
     "data": {
      "image/png": "[encoded data removed]",
      "text/plain": [
       "<Figure size 432x288 with 1 Axes>"
      ]
     },
     "metadata": {
      "needs_background": "light"
     },
     "output_type": "display_data"
    }
   ],
   "source": [
    "pd.Series(error_rate).plot()"
   ]
  },
  {
   "cell_type": "markdown",
   "id": "b5ffc38c",
   "metadata": {},
   "source": [
    "\n",
    "As we can see from the above two graphs for accuracy and errors, there is significant effect of value of k on accuracy and error only upto a point, i.e., till k=10. Beyond that there is smaller differences, which is not so significant. we have the best accuracy at k=34, it is 88.8.  However at k=10 it is 88.07 ~ 88.1.It is better to have almost the same accuracy with lower value of k, it reduces the cost of the model. to achieve 88.1 at k=10 is better than achieving 88.8 at k=34 wrt cost."
   ]
  },
  {
   "cell_type": "markdown",
   "id": "4f8901bb",
   "metadata": {},
   "source": [
    "### Naive Bayes\n",
    "\n",
    "Naive Bayes methods are a set of supervised learning algorithms based on applying Bayes’ theorem with the “naive” assumption of conditional independence between every pair of features given the value of the class variable"
   ]
  },
  {
   "cell_type": "markdown",
   "id": "44b1b930",
   "metadata": {},
   "source": [
    "#### Naive Bayes GaussianNB"
   ]
  },
  {
   "cell_type": "code",
   "execution_count": 52,
   "id": "a393b162",
   "metadata": {},
   "outputs": [],
   "source": [
    "clf_gaussian = make_pipeline(trf_preproc,GaussianNB())\n",
    "clf_gaussian.fit(X_train, y_train)\n",
    "y_pred_gaussian = clf_gaussian.predict(X_test)"
   ]
  },
  {
   "cell_type": "code",
   "execution_count": 53,
   "id": "cfce0f93",
   "metadata": {},
   "outputs": [
    {
     "name": "stdout",
     "output_type": "stream",
     "text": [
      "Accuracy for random forest: 0.8576480990274093\n"
     ]
    }
   ],
   "source": [
    "print(\"Accuracy for random forest:\",metrics.accuracy_score(y_test, y_pred_gaussian))"
   ]
  },
  {
   "cell_type": "markdown",
   "id": "00f23c14",
   "metadata": {},
   "source": [
    "#### With 10 fold cross validation for GaussianNB"
   ]
  },
  {
   "cell_type": "code",
   "execution_count": 54,
   "id": "854b5220",
   "metadata": {},
   "outputs": [
    {
     "name": "stdout",
     "output_type": "stream",
     "text": [
      "Value for k from 1 to 10 :  [0.86313466 0.84070796 0.83185841 0.84070796 0.84734513 0.86725664\n",
      " 0.82079646 0.80973451 0.8539823  0.84734513]\n",
      "Mean Accuracy from 10 fold cross validation: 0.842286917111098\n"
     ]
    }
   ],
   "source": [
    "cv_result = cross_val_score(clf_gaussian,X,y, cv = kfold,scoring = \"accuracy\")\n",
    "print(\"Value for k from 1 to 10 : \",cv_result)\n",
    "print(\"Mean Accuracy from 10 fold cross validation:\",cv_result.mean())"
   ]
  },
  {
   "cell_type": "markdown",
   "id": "8266b048",
   "metadata": {},
   "source": [
    "#### Naive Bayes MultinomialNB"
   ]
  },
  {
   "cell_type": "code",
   "execution_count": 55,
   "id": "38bd4107",
   "metadata": {},
   "outputs": [
    {
     "name": "stdout",
     "output_type": "stream",
     "text": [
      "Accuracy: 0.8850574712643678\n"
     ]
    }
   ],
   "source": [
    "clf_multinomial = make_pipeline(trf_preproc, MultinomialNB())\n",
    "clf_multinomial.fit(X_train, y_train)\n",
    "y_pred_multi = clf_multinomial.predict(X_test)\n",
    "print(\"Accuracy:\",metrics.accuracy_score(y_test, y_pred_multi))"
   ]
  },
  {
   "cell_type": "markdown",
   "id": "f5913ce9",
   "metadata": {},
   "source": [
    "#### With 10 fold cross validation for MultinomialNB"
   ]
  },
  {
   "cell_type": "code",
   "execution_count": 56,
   "id": "cd543378",
   "metadata": {},
   "outputs": [
    {
     "name": "stdout",
     "output_type": "stream",
     "text": [
      "Value for k from 1 to 10 :  [0.88300221 0.88495575 0.88495575 0.88495575 0.88495575 0.88495575\n",
      " 0.88495575 0.88495575 0.88495575 0.88495575]\n",
      "Mean Accuracy from 10 fold cross validation: 0.8847603977417025\n"
     ]
    }
   ],
   "source": [
    "cv_result_multi = cross_val_score(clf_multinomial,X,y, cv = kfold,scoring = \"accuracy\")\n",
    "print(\"Value for k from 1 to 10 : \",cv_result_multi)\n",
    "print(\"Mean Accuracy from 10 fold cross validation:\",cv_result_multi.mean())"
   ]
  },
  {
   "cell_type": "markdown",
   "id": "63e122d1",
   "metadata": {},
   "source": [
    "\n",
    "##### Multi nominalNB is better than the GaussianNB model,it has higher accuracy"
   ]
  },
  {
   "cell_type": "markdown",
   "id": "912449fa",
   "metadata": {},
   "source": [
    "### Conclusion\n",
    "Below is the table showing the accuracy and 10 fold cross validation accuracy for each of the models given\n",
    "\n",
    "\n",
    "\n",
    " Model  | Accuracy| 10-fold-cross-validation_accuracy  | \n",
    "------------- | -------------| ------------- | \n",
    "Decision Tree  | 85.86 | 86.20  | \n",
    "Random Forest  | 90.27 | 90.07  | \n",
    "KNN   | 88.86 | 88.08  | \n",
    "GaussianNB  | 85.76 | 84.23  | \n",
    "MultinomialNB  | 88.50 | 88.48  | \n",
    "\n",
    "\n",
    "##### Random forest performs the best among all the above models giving 90% accuracy. \n",
    "##### KNN and multinomial Naive Bayes are performing better after Random forest at around 88% accuracy."
   ]
  }
 ],
 "metadata": {
  "kernelspec": {
   "display_name": "Python 3",
   "language": "python",
   "name": "python3"
  },
  "language_info": {
   "codemirror_mode": {
    "name": "ipython",
    "version": 3
   },
   "file_extension": ".py",
   "mimetype": "text/x-python",
   "name": "python",
   "nbconvert_exporter": "python",
   "pygments_lexer": "ipython3",
   "version": "3.8.8"
  }
 },
 "nbformat": 4,
 "nbformat_minor": 5
}
